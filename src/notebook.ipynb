{
 "cells": [
  {
   "cell_type": "code",
   "execution_count": 14,
   "metadata": {},
   "outputs": [
    {
     "name": "stdout",
     "output_type": "stream",
     "text": [
      "device  cpu\n"
     ]
    }
   ],
   "source": [
    "from transformers import AutoTokenizer, AutoModelForSeq2SeqLM, BatchEncoding\n",
    "\n",
    "model = AutoModelForSeq2SeqLM.from_pretrained(\"ramsrigouthamg/t5-large-paraphraser-diverse-high-quality\", loss=nn.CrossEntropyLoss(ignore_index=-1))\n",
    "tokenizer = AutoTokenizer.from_pretrained(\"ramsrigouthamg/t5-large-paraphraser-diverse-high-quality\")\n",
    "\n",
    "import torch\n",
    "device = torch.device(\"cuda\" if torch.cuda.is_available() else \"cpu\")\n",
    "print(\"device \", device)\n",
    "model = model.to(device)"
   ]
  },
  {
   "cell_type": "code",
   "execution_count": 76,
   "metadata": {},
   "outputs": [],
   "source": [
    "import torch.nn.functional as F\n",
    "from torch.utils.data import Dataset, DataLoader, RandomSampler, SequentialSampler"
   ]
  },
  {
   "cell_type": "code",
   "execution_count": 36,
   "metadata": {},
   "outputs": [],
   "source": [
    "# Note, all markdown _ must be converted to * to achieve proper tokenization\n",
    "# == results in infinite loop\n",
    "# Convert emojis to text representation"
   ]
  },
  {
   "cell_type": "code",
   "execution_count": 104,
   "metadata": {},
   "outputs": [],
   "source": [
    "def encode(context: str):\n",
    "  text = \"paraphrase: \" + context + \" </s>\"\n",
    "  encoding = tokenizer.encode_plus(text, max_length=128, padding=True, return_tensors=\"pt\")\n",
    "  return encoding"
   ]
  },
  {
   "cell_type": "code",
   "execution_count": 3,
   "metadata": {},
   "outputs": [],
   "source": [
    "def paraphrase(encoding: BatchEncoding):\n",
    "  input_ids, attention_mask = encoding[\"input_ids\"].to(device), encoding[\"attention_mask\"].to(device)\n",
    "\n",
    "  model.eval()\n",
    "  beam_outputs = model.generate(\n",
    "    input_ids=input_ids,\n",
    "    attention_mask=attention_mask,\n",
    "    max_length=128,\n",
    "    early_stopping=True,\n",
    "    num_beams=15,\n",
    "    num_return_sequences=3\n",
    "  )\n",
    "\n",
    "  for beam_output in beam_outputs:\n",
    "    sent = tokenizer.decode(beam_output, skip_special_tokens=True, clean_up_tokenization_spaces=True)\n",
    "    print(sent)"
   ]
  },
  {
   "cell_type": "code",
   "execution_count": 129,
   "metadata": {},
   "outputs": [],
   "source": [
    "import torch\n",
    "import numpy as np\n",
    "\n",
    "class Config:\n",
    "  learning_rate = 1e-4\n",
    "  train_batch_size = 2\n",
    "  val_batch_size = 2\n",
    "  train_epochs = 5\n",
    "  val_epochs = 1\n",
    "  seed = 42\n",
    "\n",
    "  def __init__(self):\n",
    "    torch.manual_seed(self.seed)\n",
    "    np.random.seed(self.seed)\n",
    "    torch.backends.cudnn.deterministic = True\n",
    "\n",
    "config = Config()"
   ]
  },
  {
   "cell_type": "code",
   "execution_count": 84,
   "metadata": {},
   "outputs": [],
   "source": [
    "class CustomDataset(Dataset):\n",
    "  def __init__(self, dataframe, encode):\n",
    "    self.encode = encode\n",
    "    self.data = dataframe\n",
    "    self.source = self.data['source']\n",
    "    self.target = self.data['target']\n",
    "\n",
    "  def __len__(self):\n",
    "    return len(self.target)\n",
    "\n",
    "  def __getitem__(self, index):\n",
    "    source = self.encode(str(self.source[index]))\n",
    "    target = self.encode(str(self.target[index]))\n",
    "\n",
    "    source_ids = source['input_ids'].squeeze()\n",
    "    source_mask = source['attention_mask'].squeeze()\n",
    "    target_ids = target['input_ids'].squeeze()\n",
    "\n",
    "    return {\n",
    "        'source_ids': source_ids.to(dtype=torch.long), \n",
    "        'source_mask': source_mask.to(dtype=torch.long), \n",
    "        'target_ids': target_ids.to(dtype=torch.long),\n",
    "        'target_ids_y': target_ids.to(dtype=torch.long)\n",
    "    }"
   ]
  },
  {
   "cell_type": "code",
   "execution_count": 127,
   "metadata": {},
   "outputs": [],
   "source": [
    "def train(epoch, model, device, loader, optimizer):\n",
    "  model.train()\n",
    "  for step, data in enumerate(loader, 0):\n",
    "    y = data['target_ids'].to(device, dtype=torch.long)\n",
    "    y_ids = y[:, :-1].contiguous()\n",
    "    lm_labels = y[:, 1:].clone().detach()\n",
    "    lm_labels[y[:, 1:] == tokenizer.pad_token_id] = -100\n",
    "    ids = data['source_ids'].to(device, dtype=torch.long)\n",
    "    mask = data['source_mask'].to(device, dtype=torch.long)\n",
    "\n",
    "    outputs = model(input_ids=ids, attention_mask=mask, decoder_input_ids=y_ids, labels=lm_labels)\n",
    "    # print(outputs)\n",
    "    loss = outputs.loss\n",
    "\n",
    "    if step % 10 == 0:\n",
    "      print({\"Training Loss\": loss.item()})\n",
    "\n",
    "    if step % 500 == 0:\n",
    "      print(f'Epoch: {epoch}, Loss:  {loss.item()}')\n",
    "    \n",
    "    optimizer.zero_grad()\n",
    "    loss.backward()\n",
    "    optimizer.step()"
   ]
  },
  {
   "cell_type": "code",
   "execution_count": 130,
   "metadata": {},
   "outputs": [
    {
     "name": "stdout",
     "output_type": "stream",
     "text": [
      "{'Training Loss': 2.2327234745025635}\n",
      "Epoch: 0, Loss:  2.2327234745025635\n",
      "{'Training Loss': 1.7753381729125977}\n",
      "Epoch: 1, Loss:  1.7753381729125977\n",
      "{'Training Loss': 1.4297329187393188}\n",
      "Epoch: 2, Loss:  1.4297329187393188\n",
      "{'Training Loss': 0.8478027582168579}\n",
      "Epoch: 3, Loss:  0.8478027582168579\n",
      "{'Training Loss': 0.7149658799171448}\n",
      "Epoch: 4, Loss:  0.7149658799171448\n",
      "paraphrasedoutput: A herd of ==frogs== were ==roaming== around the woods looking for water once more.\n",
      "paraphrasedoutput: A herd of ==frogs== were ==roaming== around the woods looking for water.\n",
      "paraphrasedoutput: A herd of ==frogs== were ==roaming== around the woods looking for water again.\n"
     ]
    }
   ],
   "source": [
    "# https://huggingface.co/docs/transformers/v4.16.2/en/model_doc/t5#transformers.T5ForConditionalGeneration\n",
    "\n",
    "import torch\n",
    "\n",
    "training_set = CustomDataset({\n",
    "  \"source\": [\n",
    "    \"A flock of ==frogs== were ==roaming== around the park in search of water once more.\",\n",
    "    \"A ==flock== of frogs were roaming around the park in ==search of water== once more.\"\n",
    "  ],\n",
    "  \"target\": [\n",
    "    \"A herd of ==frogs== were ==wandering== around the woods in search of water.\",\n",
    "    \"A ==herd== of frogs were wandering around the woods in ==search of water==.\"\n",
    "  ]\n",
    "}, encode)\n",
    "train_params = {\n",
    "  'batch_size': config.train_batch_size,\n",
    "  'shuffle': True,\n",
    "  'num_workers': 0\n",
    "}\n",
    "training_loader = DataLoader(training_set, **train_params)\n",
    "\n",
    "optimizer = torch.optim.Adam(model.parameters(), lr=config.learning_rate)\n",
    "\n",
    "# encoding = encode(\"A flock of ==frogs== were ==roaming== around the park in search of water once more.\")\n",
    "# paraphrase(encoding)\n",
    "\n",
    "for epoch in range(config.train_epochs):\n",
    "  train(epoch, model, device, training_loader, optimizer)\n",
    "\n",
    "encoding = encode(\"A flock of ==frogs== were ==roaming== around the park in search of water once more.\")\n",
    "paraphrase(encoding)"
   ]
  },
  {
   "cell_type": "code",
   "execution_count": 131,
   "metadata": {},
   "outputs": [
    {
     "name": "stdout",
     "output_type": "stream",
     "text": [
      "paraphrasedoutput: A herd of frogs were wandering ==around== the woods in search of water.\n",
      "paraphrasedoutput: A herd of frogs were wandering around== the woods in search of water.\n",
      "paraphrasedoutput: A herd of frogs were wandering around== the woods looking for water once more.\n"
     ]
    }
   ],
   "source": [
    "# encoding1 = encode(\"Once, a group of frogs were roaming around the forest in search of water.\")\n",
    "# paraphrase(encoding1)\n",
    "# # paraphrasedoutput: A herd of frogs were wandering around the woods in search of water.\n",
    "# # paraphrasedoutput: A herd of frogs was wandering around the woods in search of water.\n",
    "# # paraphrasedoutput: A herd of frogs were wandering around the forest in search of water at one time.\n",
    "# encoding2 = encode(\"Once, a group of **frogs** were **roaming** around the forest in search of water.\")\n",
    "# paraphrase(encoding2)\n",
    "# # paraphrasedoutput: A flock of **frogs** were **roaming** around the park in search of water once more.\n",
    "# # paraphrasedoutput: A pair of **frogs** were **roaming** around the park in search of water once more.\n",
    "# # paraphrasedoutput: A flock of **frogs** were **roaming** around the forest in search of water once more.\n",
    "# encoding3 = encode(\"A flock of ==frogs== were ==roaming== around the park in search of water once more.\")\n",
    "# paraphrase(encoding3)\n",
    "# # paraphrasedoutput: A flock of ==frogs===roaming===roaming===roaming====roaming====roaming====roaming====roaming====roaming====roaming====roaming====roaming=====roaming=====ro\n",
    "# # paraphrasedoutput: A flock of ==frogs===roaming===roaming===roaming====roaming====roaming====roaming====roaming====roaming====roaming=====roaming====roaming=====roaming====ro\n",
    "# # paraphrasedoutput: A flock of ==frogs===roaming===roaming===roaming====roaming====roaming====roaming====roaming====roaming====roaming====roaming====roaming====roaming====ro\n",
    "encoding4 = encode(\"A flock of frogs were roaming ==around== the park in search of water once more.\")\n",
    "paraphrase(encoding4)"
   ]
  }
 ],
 "metadata": {
  "interpreter": {
   "hash": "ddd7d0c7b861d9415c59df7da8e2e0e19624a13f7f408c44c30f59a35ad71a1c"
  },
  "kernelspec": {
   "display_name": "Python 3.9.10 ('article-rewriter')",
   "language": "python",
   "name": "python3"
  },
  "language_info": {
   "codemirror_mode": {
    "name": "ipython",
    "version": 3
   },
   "file_extension": ".py",
   "mimetype": "text/x-python",
   "name": "python",
   "nbconvert_exporter": "python",
   "pygments_lexer": "ipython3",
   "version": "3.9.10"
  },
  "orig_nbformat": 4
 },
 "nbformat": 4,
 "nbformat_minor": 2
}
